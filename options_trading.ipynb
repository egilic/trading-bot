{
 "cells": [
  {
   "cell_type": "code",
   "execution_count": 3,
   "metadata": {},
   "outputs": [],
   "source": [
    "import os\n",
    "from dotenv import load_dotenv\n",
    "\n",
    "# Load environment variables from .env \n",
    "load_dotenv()\n",
    "\n",
    "api_key = os.getenv('ALPACA_API_KEY')\n",
    "secret_key = os.getenv('ALPACA_SECRET_KEY')\n",
    "paper = True"
   ]
  },
  {
   "cell_type": "code",
   "execution_count": 6,
   "metadata": {},
   "outputs": [],
   "source": [
    "from datetime import datetime, timedelta\n",
    "\n",
    "import alpaca\n",
    "from alpaca.data.historical.option import OptionHistoricalDataClient, OptionLatestQuoteRequest\n",
    "from alpaca.data.historical.stock import StockHistoricalDataClient, StockLatestTradeRequest\n",
    "from alpaca.trading.client import TradingClient, GetAssetsRequest\n",
    "from alpaca.trading.requests import GetOptionContractsRequest, LimitOrderRequest, MarketOrderRequest, GetOrdersRequest\n",
    "from alpaca.trading.enums import AssetStatus, ContractType, OrderSide, OrderType, TimeInForce, QueryOrderStatus\n"
   ]
  },
  {
   "cell_type": "code",
   "execution_count": 7,
   "metadata": {},
   "outputs": [],
   "source": [
    "trade_client = TradingClient(api_key=api_key, secret_key=secret_key, paper=paper)\n",
    "\n",
    "stock_data_client = StockHistoricalDataClient(api_key=api_key, secret_key=secret_key)\n",
    "\n",
    "option_data_client = OptionHistoricalDataClient(api_key=api_key, secret_key=secret_key)"
   ]
  },
  {
   "cell_type": "code",
   "execution_count": 8,
   "metadata": {},
   "outputs": [
    {
     "name": "stdout",
     "output_type": "stream",
     "text": [
      "Options Approved Level: 2\n",
      "Options Trading Level: 2\n",
      "Options Buying Power: 100000\n"
     ]
    }
   ],
   "source": [
    "acct = trade_client.get_account()\n",
    "\n",
    "print(f\"Options Approved Level: {acct.options_approved_level}\")\n",
    "print(f\"Options Trading Level: {acct.options_trading_level}\")\n",
    "print(f\"Options Buying Power: {acct.options_buying_power}\")"
   ]
  },
  {
   "cell_type": "code",
   "execution_count": 10,
   "metadata": {},
   "outputs": [
    {
     "name": "stdout",
     "output_type": "stream",
     "text": [
      "Max Options Trading Level: None\n",
      "Max Options Trading Level: 1\n"
     ]
    }
   ],
   "source": [
    "# Risk management\n",
    "acct_config = trade_client.get_account_configurations()\n",
    "print(f\"Max Options Trading Level: {acct_config.max_options_trading_level}\")\n",
    "\n",
    "acct_config.max_options_trading_level = 1\n",
    "trade_client.set_account_configurations(acct_config)\n",
    "\n",
    "acct_config = trade_client.get_account_configurations()\n",
    "print(f\"Max Options Trading Level: {acct_config.max_options_trading_level}\")"
   ]
  },
  {
   "cell_type": "code",
   "execution_count": 13,
   "metadata": {},
   "outputs": [
    {
     "name": "stdout",
     "output_type": "stream",
     "text": [
      "Number of Underlyings with Options: 5773\n",
      "TSLA has options? False\n"
     ]
    }
   ],
   "source": [
    "# List of assets to have options available\n",
    "req = GetAssetsRequest(\n",
    "    status = AssetStatus.ACTIVE, \n",
    "    attributes = \"options_enabled\"\n",
    ")\n",
    "\n",
    "options_enabled_underlyings = trade_client.get_all_assets(req)\n",
    "print(f\"Number of Underlyings with Options: {len(options_enabled_underlyings)}\")\n",
    "\n",
    "underlying_symbol = \"TSLA\"\n",
    "underlying = trade_client.get_asset(symbol_or_asset_id=underlying_symbol)\n",
    "print(f\"{underlying_symbol} has options? {'options_enabled' in underlying.attributes}\")\n",
    "\n"
   ]
  },
  {
   "cell_type": "code",
   "execution_count": 14,
   "metadata": {},
   "outputs": [],
   "source": [
    "# Call Overwrite\n",
    "# \n",
    "# What is currently in the account?\n",
    "positions = trade_client.get_all_positions()\n",
    "\n",
    "for p in positions:\n",
    "    print(p)\n",
    "\n",
    "\n",
    "\n"
   ]
  },
  {
   "cell_type": "code",
   "execution_count": null,
   "metadata": {},
   "outputs": [],
   "source": [
    "# Overwrite on TSLA\n",
    "\n",
    "# Query all call options based on these filters\n",
    "today = datetime.now().date()\n",
    "min_expiration = today + timedelta(days=14)\n",
    "max_expiration = today + timedelta(days=90)\n",
    "\n",
    "underlying_trade_request = StockLatestTradeRequest(symbol_or_symbols=underlying_symbol)\n",
    "underlying_latest_trade = stock_data_client.get_stock_latest_trade(underlying_trade_request)\n",
    "underlying_last_price = underlying_latest_trade[underlying_symbol].price\n",
    "\n",
    "print(f\"{underlying} last trade price: {underlying_last_price}\")\n",
    "\n",
    "min_strike = str(round(underlying_last_price * 1.02, 2))\n",
    "\n",
    "print(f\"Min Expiration: {min_expiration}\")\n",
    "print(f\"Max Expiration: {max_expiration}\")\n",
    "\n"
   ]
  }
 ],
 "metadata": {
  "kernelspec": {
   "display_name": "trade_env",
   "language": "python",
   "name": "python3"
  },
  "language_info": {
   "codemirror_mode": {
    "name": "ipython",
    "version": 3
   },
   "file_extension": ".py",
   "mimetype": "text/x-python",
   "name": "python",
   "nbconvert_exporter": "python",
   "pygments_lexer": "ipython3",
   "version": "3.11.9"
  }
 },
 "nbformat": 4,
 "nbformat_minor": 2
}
